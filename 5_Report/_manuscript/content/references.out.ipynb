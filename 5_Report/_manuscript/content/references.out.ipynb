{
 "cells": [
  {
   "cell_type": "markdown",
   "metadata": {},
   "source": [
    "# \n",
    "\n",
    "# Literaturverzeichnis"
   ],
   "id": "3b6075d6-3014-4ba1-94de-2174ca48b5c7"
  }
 ],
 "nbformat": 4,
 "nbformat_minor": 5,
 "metadata": {}
}
